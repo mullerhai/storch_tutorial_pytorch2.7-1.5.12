{
 "cells": [
  {
   "cell_type": "code",
   "execution_count": 2,
   "id": "e8f5ee95",
   "metadata": {},
   "outputs": [],
   "source": [
    "import torch\n",
    "from torch import nn \n",
    "import torch.functional as F\n",
    "import math"
   ]
  },
  {
   "cell_type": "code",
   "execution_count": 2,
   "id": "ba92b92e",
   "metadata": {},
   "outputs": [
    {
     "name": "stdout",
     "output_type": "stream",
     "text": [
      "torch.Size([16, 64, 512])\n"
     ]
    }
   ],
   "source": [
    "X = torch.randn(16,64,512)\n",
    "print(X.shape)"
   ]
  },
  {
   "cell_type": "code",
   "execution_count": 4,
   "id": "d55a2422",
   "metadata": {},
   "outputs": [],
   "source": [
    "d_model = 512\n",
    "n_head = 8"
   ]
  },
  {
   "cell_type": "code",
   "execution_count": 4,
   "id": "ec288013",
   "metadata": {},
   "outputs": [
    {
     "name": "stdout",
     "output_type": "stream",
     "text": [
      "torch.Size([16, 64, 512])\n"
     ]
    }
   ],
   "source": [
    "# init\n",
    "# forward\n",
    "# self attention\n",
    "class multi_head_attention(nn.Module):\n",
    "    def __init__(self, d_model, n_head):\n",
    "        \n",
    "        super(multi_head_attention, self).__init__()\n",
    "        \n",
    "        self.n_head = n_head\n",
    "        self.d_model = d_model\n",
    "        self.w_q = nn.Linear(d_model, d_model)\n",
    "        self.w_k = nn.Linear(d_model, d_model)\n",
    "        self.w_v = nn.Linear(d_model, d_model)\n",
    "        self.w_o = nn.Linear(d_model, d_model)\n",
    "        self.softmax = nn.Softmax(dim = -1)\n",
    "    \n",
    "    def forward(self, q, k, v):\n",
    "        B, T, D = q.shape\n",
    "        n_d = self.d_model // self.n_head\n",
    "        q, k, v = self.w_q(q), self.w_k(k), self.w_v(v)\n",
    "        \n",
    "        # split\n",
    "        q = q.view(B, T, self.n_head, n_d).transpose(1, 2)\n",
    "        k = k.view(B, T, self.n_head, n_d).transpose(1, 2)\n",
    "        v = v.view(B, T, self.n_head, n_d).transpose(1, 2)\n",
    "        #print(q.shape)\n",
    "        \n",
    "        # scaled dot prodction \n",
    "        score = q @ k.transpose(2,3) / math.sqrt(n_d)\n",
    "        mask = torch.tril(torch.ones(T,T,dtype=bool))\n",
    "        score = score.masked_fill(mask == 0, -10000) #why -1000\n",
    "        score = self.softmax(score)\n",
    "        score = score @ v # \"@\" is multiple matrix\n",
    "        \n",
    "        #print(score.shape)\n",
    "        \n",
    "        # concate\n",
    "        x_concate = score.transpose(1,2).contiguous().view(B,T, self.d_model)\n",
    "        x_output = self.w_o(x_concate)\n",
    "        #print(x_output.shape)\n",
    "        return x_output\n",
    "        \n",
    "attn = multi_head_attention(d_model, n_head)\n",
    "Y = attn(X,X,X)\n",
    "print(Y.shape)"
   ]
  },
  {
   "cell_type": "code",
   "execution_count": 10,
   "id": "ae6c400a",
   "metadata": {},
   "outputs": [
    {
     "name": "stdout",
     "output_type": "stream",
     "text": [
      "d_model:  512\n",
      "ln gamma: torch.Size([512])\n",
      "ln beta: torch.Size([512])\n",
      "torch.Size([2, 5, 512])\n"
     ]
    }
   ],
   "source": [
    "# layer norm\n",
    "class layer_norm(nn.Module):\n",
    "    def __init__(self, d_model, eps = 1e-12):\n",
    "        super(layer_norm, self).__init__()\n",
    "        \n",
    "        self.gamma = nn.Parameter(torch.ones(d_model))\n",
    "        self.beta = nn.Parameter(torch.zeros(d_model))\n",
    "        self.eps = eps\n",
    "        \n",
    "    def forward(self, x):\n",
    "        mean = x.mean(-1, keepdim = True)\n",
    "        var = x.var(-1, unbiased=False, keepdim = True)\n",
    "        out = (x - mean) / torch.sqrt(var + self.eps)\n",
    "        out = self.gamma * out + self.beta\n",
    "        return out\n",
    "    \n",
    "d_model = 512\n",
    "X = torch.randn(2,5,512) # 2句话, 5个token，词向量512\n",
    "ln = layer_norm(d_model)\n",
    "print(\"d_model: \", d_model)\n",
    "print(f\"ln gamma: {ln.gamma.shape}\")\n",
    "print(f\"ln beta: {ln.beta.shape}\")\n",
    "Y_ln = ln(X)\n",
    "print(Y_ln.shape)"
   ]
  },
  {
   "cell_type": "code",
   "execution_count": null,
   "id": "e8e8e2b5",
   "metadata": {},
   "outputs": [],
   "source": []
  },
  {
   "cell_type": "code",
   "execution_count": null,
   "id": "8b6765f9",
   "metadata": {},
   "outputs": [],
   "source": []
  }
 ],
 "metadata": {
  "kernelspec": {
   "display_name": "Python 3 (ipykernel)",
   "language": "python",
   "name": "python3"
  },
  "language_info": {
   "codemirror_mode": {
    "name": "ipython",
    "version": 3
   },
   "file_extension": ".py",
   "mimetype": "text/x-python",
   "name": "python",
   "nbconvert_exporter": "python",
   "pygments_lexer": "ipython3",
   "version": "3.11.3"
  },
  "toc": {
   "base_numbering": 1,
   "nav_menu": {},
   "number_sections": true,
   "sideBar": true,
   "skip_h1_title": false,
   "title_cell": "Table of Contents",
   "title_sidebar": "Contents",
   "toc_cell": false,
   "toc_position": {},
   "toc_section_display": true,
   "toc_window_display": false
  }
 },
 "nbformat": 4,
 "nbformat_minor": 5
}
